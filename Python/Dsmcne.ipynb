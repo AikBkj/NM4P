{
 "cells": [
  {
   "cell_type": "code",
   "execution_count": null,
   "metadata": {
    "collapsed": true
   },
   "outputs": [],
   "source": [
    "# dsmcne - Program to simulate a dilute gas using DSMC algorithm\n",
    "# This version simulates planar Couette flow\n",
    "\n",
    "# Set up configuration options and special features\n",
    "import numpy as np\n",
    "import matplotlib.pyplot as plt\n",
    "%matplotlib inline"
   ]
  },
  {
   "cell_type": "code",
   "execution_count": null,
   "metadata": {
    "collapsed": false
   },
   "outputs": [],
   "source": [
    "class sampList:\n",
    "    def __init__(self, ncell_in):\n",
    "        self.ncell = ncell_in\n",
    "        self.nsamp = 0\n",
    "        self.ave_n = np.zeros(ncell_in)\n",
    "        self.ave_u = np.zeros((ncell_in,3))\n",
    "        self.ave_T = np.zeros(ncell_in)"
   ]
  },
  {
   "cell_type": "code",
   "execution_count": null,
   "metadata": {
    "collapsed": true
   },
   "outputs": [],
   "source": [
    "class sortList:\n",
    "    def __init__(self, ncell_in, npart_in):\n",
    "        self.ncell = ncell_in\n",
    "        self.npart = npart_in\n",
    "        self.cell_n = np.zeros(ncell_in, dtype=int)\n",
    "        self.index = np.empty(ncell_in, dtype=int)\n",
    "        self.Xref = np.empty(npart_in, dtype=int)"
   ]
  },
  {
   "cell_type": "code",
   "execution_count": null,
   "metadata": {
    "collapsed": false
   },
   "outputs": [],
   "source": [
    "def sorter(x,L,sD) :\n",
    "    # sorter - Function to sort particles into cells\n",
    "    # Inputs\n",
    "    #    x       Positions of particles\n",
    "    #    L       System size\n",
    "    #    sD      Structure containing sorting lists\n",
    "    # Output\n",
    "    #    sD      Structure containing sorting lists\n",
    "\n",
    "    #* Find the cell address for each particle\n",
    "    npart = sD.npart\n",
    "    ncell = sD.ncell\n",
    "    jx = np.empty(npart,dtype=int)\n",
    "    for ipart in range(npart) :\n",
    "        jx[ipart] = int( x[ipart]*ncell/L )\n",
    "        jx[ipart] = min( jx[ipart], (ncell-1) )\n",
    "\n",
    "    #* Count the number of particles in each cell\n",
    "    sD.cell_n = np.zeros(ncell)\n",
    "    for ipart in range(npart) :\n",
    "        sD.cell_n[ jx[ipart] ] += 1\n",
    "\n",
    "    #* Build index list as cumulative sum of the \n",
    "    #  number of particles in each cell\n",
    "    m = 0\n",
    "    for jcell in range(ncell) :\n",
    "        sD.index[jcell] = m\n",
    "        m += sD.cell_n[jcell]\n",
    "\n",
    "    #* Build cross-reference list\n",
    "    temp = np.zeros(ncell)      # Temporary array\n",
    "    for ipart in range(npart) :\n",
    "        jcell = jx[ipart]       # Cell address of ipart\n",
    "        k = sD.index[jcell] + temp[jcell]\n",
    "        sD.Xref[k] = ipart\n",
    "        temp[jcell] += 1\n",
    "\n",
    "    return sD"
   ]
  },
  {
   "cell_type": "code",
   "execution_count": null,
   "metadata": {
    "collapsed": false
   },
   "outputs": [],
   "source": [
    "def colider(v,crmax,tau,selxtra,coeff,sD) :\n",
    "    # colide - Function to process collisions in cells\n",
    "    # Inputs\n",
    "    #    v         Velocities of the particles\n",
    "    #    crmax     Estimated maximum relative speed in a cell\n",
    "    #    tau       Time step\n",
    "    #    selxtra   Extra selections carried over from last timestep\n",
    "    #    coeff     Coefficient in computing number of selected pairs\n",
    "    #    sD        Structure containing sorting lists \n",
    "    # Outputs\n",
    "    #    v         Updated velocities of the particles\n",
    "    #    crmax     Updated maximum relative speed\n",
    "    #    selxtra   Extra selections carried over to next timestep\n",
    "    #    col       Total number of collisions processed\n",
    "\n",
    "    ncell = sD.ncell \n",
    "    col = 0              # Count number of collisions\n",
    "    vrel = np.empty(3)   # Relative velocity for collision pair\n",
    "    \n",
    "    #* Loop over cells, processing collisions in each cell\n",
    "    for jcell in range(ncell) :\n",
    " \n",
    "        #* Skip cells with only one particle\n",
    "        number = sD.cell_n[jcell]\n",
    "        if number > 1 :  \n",
    "            \n",
    "            #* Determine number of candidate collision pairs \n",
    "            #  to be selected in this cell\n",
    "            select = coeff*number*(number-1)*crmax[jcell] + selxtra[jcell]\n",
    "            nsel = int(select)            # Number of pairs to be selected\n",
    "            selxtra[jcell] = select-nsel  # Carry over any left-over fraction\n",
    "            crm = crmax[jcell]            # Current maximum relative speed\n",
    "  \n",
    "            #* Loop over total number of candidate collision pairs\n",
    "            for isel in range(nsel) :\n",
    "    \n",
    "                #* Pick two particles at random out of this cell\n",
    "                k = int( np.floor( np.random.uniform(0,number) ) )\n",
    "                kk = int(np.ceil( k + np.random.uniform(0,number-1) ) ) % number\n",
    "                ip1 = sD.Xref[ k + sD.index[jcell] ]   # First particle\n",
    "                ip2 = sD.Xref[ kk + sD.index[jcell] ]  # Second particle\n",
    "\n",
    "                #* Calculate pair's relative speed\n",
    "                cr = np.linalg.norm( v[ip1,:] - v[ip2,:] )   # Relative speed \n",
    "                if cr > crm :         # If relative speed larger than crm,\n",
    "                    crm = cr          # then reset crm to larger value\n",
    "\n",
    "                #* Accept or reject candidate pair according to relative speed\n",
    "                if cr/crmax[jcell] > np.random.random()  :\n",
    "                    #* If pair accepted, select post-collision velocities\n",
    "                    col += 1                            # Collision counter\n",
    "                    vcm = 0.5*( v[ip1,:] + v[ip2,:] )   # Center of mass velocity\n",
    "                    cos_th = 1. - 2.*np.random.random()    # Cosine and sine of \n",
    "                    sin_th = np.sqrt(1. - cos_th**2)    # collision angle theta\n",
    "                    phi = 2*np.pi*np.random.random()       # Collision angle phi\n",
    "                    vrel[0] = cr*cos_th                 # Compute post-collision \n",
    "                    vrel[1] = cr*sin_th*np.cos(phi)     # relative velocity\n",
    "                    vrel[2] = cr*sin_th*np.sin(phi)\n",
    "                    v[ip1,:] = vcm + 0.5*vrel           # Update post-collision\n",
    "                    v[ip2,:] = vcm - 0.5*vrel           # velocities\n",
    "\n",
    "            crmax[jcell] = crm      # Update max relative speed \n",
    "    \n",
    "    return [v, crmax, selxtra, col]"
   ]
  },
  {
   "cell_type": "code",
   "execution_count": null,
   "metadata": {
    "collapsed": true
   },
   "outputs": [],
   "source": [
    "def mover( x, v, npart, L, mpv, vwall, tau) :\n",
    "    # mover - Function to move particles by free flight\n",
    "    #         Also handles collisions with walls\n",
    "    # Inputs\n",
    "    #    x        Positions of the particles\n",
    "    #    v        Velocities of the particles\n",
    "    #    npart    Number of particles in the system\n",
    "    #    L        System length\n",
    "    #    mpv      Most probable velocity off the wall\n",
    "    #    vwall    Wall velocities\n",
    "    #    tau      Time step\n",
    "    # Outputs\n",
    "    #    x,v      Updated positions and velocities\n",
    "    #    strikes  Number of particles striking each wall\n",
    "    #    delv     Change of y-velocity at each wall     \n",
    "\n",
    "    #* Move all particles pretending walls are absent\n",
    "    x_old = np.copy(x)     # Remember original position\n",
    "    x[:] = x_old[:] + v[:,0]*tau   \n",
    "\n",
    "    #* Loop over all particles\n",
    "    strikes = np.array([0, 0])\n",
    "    delv = np.array([0., 0.])  \n",
    "    xwall = np.array([0., L])\n",
    "    vw = np.array([-vwall, vwall])\n",
    "    direction = [1, -1]   # Direction of particle leaving wall\n",
    "    stdev = mpv/np.sqrt(2.)\n",
    "    for i in range(npart) :\n",
    "\n",
    "        #* Test if particle strikes either wall\n",
    "        if x[i] <= 0. :\n",
    "            flag = 0   # Particle strikes left wall\n",
    "        elif x[i] >= L :\n",
    "            flag = 1   # Particle strikes right wall\n",
    "        else :\n",
    "            flag = -1   # Particle strikes neither wall\n",
    "\n",
    "        #* If particle strikes a wall, reset its position\n",
    "        #  and velocity. Record velocity change.\n",
    "        if flag > -1 :\n",
    "            strikes[flag] += 1\n",
    "            vyInitial = v[i,1]\n",
    "            #* Reset velocity components as biased Maxwellian,\n",
    "            #  Exponential dist. in x; Gaussian in y and z\n",
    "            v[i,0] = direction[flag] * np.sqrt(\n",
    "                -np.log( 1. - np.random.random() ) ) * mpv\n",
    "            v[i,1] = stdev*np.random.normal() + vw[flag]  # Add wall velocity\n",
    "            v[i,2] = stdev*np.random.normal()\n",
    "            # Time of flight after leaving wall\n",
    "            dtr = tau * (x[i] - xwall[flag])/(x[i] - x_old[i])   \n",
    "            #* Reset position after leaving wall\n",
    "            x[i] = xwall[flag] + v[i,0]*dtr\n",
    "            #* Record velocity change for force measurement\n",
    "            delv[flag] += v[i,1] - vyInitial\n",
    "            \n",
    "    return [x,v,strikes,delv]"
   ]
  },
  {
   "cell_type": "code",
   "execution_count": null,
   "metadata": {
    "collapsed": true
   },
   "outputs": [],
   "source": [
    "def sampler(x,v,npart,L,sampD) :\n",
    "    # sampler - Function to sample density, velocity and temperature\n",
    "    # Inputs\n",
    "    #    x       Particle positions\n",
    "    #    v       Particle velocities\n",
    "    #    npart   Number of particles\n",
    "    #    L       System size\n",
    "    #    sampD   Structure with sampling data\n",
    "    # Outputs\n",
    "    #    sampD   Structure with sampling data\n",
    "\n",
    "    #* Compute cell location for each particle\n",
    "    ncell = sampD.ncell\n",
    "    jx = np.empty(npart)\n",
    "    for i in range(npart) :\n",
    "        jx[i] = int(ncell*x[i]/L)\n",
    "\n",
    "    #* Initialize running sums of number, velocity and v^2\n",
    "    sum_n = np.zeros(ncell)\n",
    "    sum_v = np.zeros((ncell,3))\n",
    "    sum_v2 = np.zeros(ncell)\n",
    "\n",
    "    #* For each particle, accumulate running sums for its cell\n",
    "    for ipart in range(npart) :\n",
    "        jcell = jx[ipart]    # Particle ipart is in cell jcell\n",
    "        sum_n[jcell] += 1.\n",
    "        sum_v[jcell,:] += v[ipart,:]\n",
    "        sum_v2[jcell] += v[ipart,0]**2 + v[ipart,1]**2 + v[ipart,2]**2\n",
    "\n",
    "    #* Use current sums to update sample number, velocity \n",
    "    #  and temperature\n",
    "    for i in range(3) :\n",
    "        sum_v[:,i] /= sum_n[:]\n",
    "    sum_v2[:] /= sum_n[:]\n",
    "    \n",
    "    sampD.ave_n[:] += sum_n[:]\n",
    "    for i in range(3) :    \n",
    "        sampD.ave_u[:,i] += sum_v[:,i]\n",
    "    sampD.ave_T[:] += sum_v2[:] - (\n",
    "                   sum_v[:,0]**2 + sum_v[:,1]**2 + sum_v[:,2]**2 )\n",
    "    sampD.nsamp += 1\n",
    " \n",
    "    return sampD"
   ]
  },
  {
   "cell_type": "code",
   "execution_count": null,
   "metadata": {
    "collapsed": false
   },
   "outputs": [],
   "source": [
    "#* Initialize constants  (particle mass, diameter, etc.)\n",
    "boltz = 1.3806e-23     # Boltzmann's constant (J/K)\n",
    "mass = 6.63e-26        # Mass of argon atom (kg)\n",
    "diam = 3.66e-10        # Effective diameter of argon atom (m)\n",
    "T = 273.               # Temperature (K)\n",
    "density = 2.685e25     # Number density of argon at STP (m^-3)\n",
    "L = 1.e-6              # System size is one micron\n",
    "Volume = L**3          # Volume of the system (m^3)\n",
    "npart = input('Enter number of simulation particles: ')\n",
    "eff_num = density*Volume/npart\n",
    "print 'Each simulation particle represents ', eff_num, ' atoms'\n",
    "mfp = Volume/(np.sqrt(2.)*np.pi*diam**2*npart*eff_num)\n",
    "print 'System width is ', L/mfp, ' mean free paths'\n",
    "mpv = np.sqrt(2*boltz*T/mass)   # Most probable initial velocity \n",
    "vwall_m = input('Enter wall velocity as Mach number: ')\n",
    "vwall = vwall_m * np.sqrt(5./3. * boltz*T/mass)\n",
    "print 'Wall velocities are ', -vwall, ' and ', vwall, ' m/s'"
   ]
  },
  {
   "cell_type": "code",
   "execution_count": null,
   "metadata": {
    "collapsed": false
   },
   "outputs": [],
   "source": [
    "#* Assign random positions and velocities to particles\n",
    "np.random.seed(0)          # Initialize random number generator\n",
    "x = np.empty(npart)\n",
    "for i in range(npart) :\n",
    "    x[i] = np.random.uniform(0.,L)       # Assign random positions\n",
    "v = np.zeros((npart,3))     \n",
    "for i in range(npart) :\n",
    "    for j in range(3) :\n",
    "        # Assign thermal velocities using Gaussian random numbers\n",
    "        v[i,j] = np.sqrt(boltz*T/mass) * np.random.normal()\n",
    "    v[i,1] += 2. * vwall * x[i]/L - vwall   # Add velocity gradient"
   ]
  },
  {
   "cell_type": "code",
   "execution_count": null,
   "metadata": {
    "collapsed": false
   },
   "outputs": [],
   "source": [
    "#* Initialize variables used for evaluating collisions\n",
    "ncell = 20                       # Number of cells\n",
    "tau = 0.2*(L/ncell)/mpv          # Set timestep tau\n",
    "vrmax = 3*mpv*np.ones(ncell)     # Estimated max rel. speed in a cell\n",
    "selxtra = np.zeros(ncell)        # Used by collision routine \"colider\"\n",
    "coeff = 0.5*eff_num*np.pi*diam**2*tau/(Volume/ncell)"
   ]
  },
  {
   "cell_type": "code",
   "execution_count": null,
   "metadata": {
    "collapsed": false
   },
   "outputs": [],
   "source": [
    "#* Declare sortList object for lists used in sorting\n",
    "sortData = sortList(ncell, npart)\n",
    "\n",
    "#* Initialize object and variables used in statistical sampling\n",
    "sampData = sampList(ncell)\n",
    "tsamp = 0.                # Total sampling time\n",
    "dvtot = np.zeros(2)       # Total momentum change at a wall\n",
    "dverr = np.zeros(2)       # Used to find error in dvtot"
   ]
  },
  {
   "cell_type": "code",
   "execution_count": null,
   "metadata": {
    "collapsed": false
   },
   "outputs": [],
   "source": [
    "#* Loop for the desired number of time steps\n",
    "colSum = 0\n",
    "strikeSum = np.array([0, 0])\n",
    "nstep = input('Enter total number of time steps: ')\n",
    "for istep in range(nstep) :\n",
    "\n",
    "    #* Move all the particles \n",
    "    [x, v, strikes, delv] = mover(x,v,npart,L,mpv,vwall,tau)\n",
    "    strikeSum += strikes\n",
    "\n",
    "    #* Sort the particles into cells\n",
    "    sortData = sorter(x,L,sortData);\n",
    "  \n",
    "    #* Evaluate collisions among the particles\n",
    "    [v, vrmax, selxtra, col] = colider(v,vrmax,tau,selxtra,coeff,sortData)\n",
    "    colSum += col \n",
    "  \n",
    "    #* After initial transient, accumulate statistical samples\n",
    "    if istep > nstep/10 : \n",
    "        sampData = sampler(x,v,npart,L,sampData)\n",
    "        dvtot += delv\n",
    "        dverr += delv**2\n",
    "        tsamp += tau\n",
    "\n",
    "    #* Periodically display the current progress\n",
    "    if (istep+1) % 10 < 1 :\n",
    "        print 'Finished ', istep, ' of ', nstep, ' steps, Collisions = ',colSum\n",
    "        print 'Total wall strikes: ', strikeSum[0], ' (left)  ', strikeSum[1], ' (right)'"
   ]
  },
  {
   "cell_type": "code",
   "execution_count": null,
   "metadata": {
    "collapsed": false
   },
   "outputs": [],
   "source": [
    "#* Normalize the accumulated statistics\n",
    "nsamp = sampData.nsamp \n",
    "ave_n = (eff_num/(Volume/ncell))*sampData.ave_n/nsamp\n",
    "ave_u = np.empty((ncell,3))\n",
    "for i in range(3) :\n",
    "   ave_u[:,i] = sampData.ave_u[:,i]/nsamp\n",
    "ave_T = mass/(3*boltz) * (sampData.ave_T/nsamp)\n",
    "dverr = dverr/(nsamp-1) - (dvtot/nsamp)**2\n",
    "dverr = np.sqrt(dverr*nsamp)"
   ]
  },
  {
   "cell_type": "code",
   "execution_count": null,
   "metadata": {
    "collapsed": false
   },
   "outputs": [],
   "source": [
    "#* Compute viscosity from drag force on the walls\n",
    "force = (eff_num*mass*dvtot)/(tsamp*L**2)\n",
    "ferr = (eff_num*mass*dverr)/(tsamp *L**2)\n",
    "print 'Force per unit area is'\n",
    "print 'Left wall:   ', force[0], ' +/- ', ferr[0]  \n",
    "print 'Right wall:  ', force[1], ' +/- ', ferr[1]  \n",
    "vgrad = 2*vwall/L;  # Velocity gradient\n",
    "visc = 1./2.*(-force[0]+force[1])/vgrad   # Average viscosity\n",
    "viscerr = 1./2.*(ferr[0]+ferr[1])/vgrad   # Error\n",
    "print 'Viscosity = ', visc, ' +/- ', viscerr, ' N s/m^2'\n",
    "eta = 5.*np.pi/32.*mass*density*(2./np.sqrt(np.pi)*mpv)*mfp\n",
    "print 'Theoretical value of viscoisty is ', eta, ' N s/m^2'"
   ]
  },
  {
   "cell_type": "code",
   "execution_count": null,
   "metadata": {
    "collapsed": false
   },
   "outputs": [],
   "source": [
    "#* Plot average density, velocity and temperature\n",
    "xcell = (np.arange(ncell)+0.5)/ncell * L\n",
    "plt.plot(xcell,ave_n)           \n",
    "plt.xlabel('position')  \n",
    "plt.ylabel('Number density') \n",
    "plt.show()\n",
    "plt.plot(xcell,ave_u[:,0],xcell,ave_u[:,1],xcell,ave_u[:,2])           \n",
    "plt.xlabel('position')  \n",
    "plt.ylabel('Velocities')\n",
    "plt.legend(['x-component','y-component','z-component'])\n",
    "plt.show()\n",
    "plt.plot(xcell,ave_T)           \n",
    "plt.xlabel('position')  \n",
    "plt.ylabel('Temperature') \n",
    "plt.show()"
   ]
  },
  {
   "cell_type": "code",
   "execution_count": null,
   "metadata": {
    "collapsed": true
   },
   "outputs": [],
   "source": []
  }
 ],
 "metadata": {
  "anaconda-cloud": {},
  "kernelspec": {
   "display_name": "Python [default]",
   "language": "python",
   "name": "python2"
  },
  "language_info": {
   "codemirror_mode": {
    "name": "ipython",
    "version": 2
   },
   "file_extension": ".py",
   "mimetype": "text/x-python",
   "name": "python",
   "nbconvert_exporter": "python",
   "pygments_lexer": "ipython2",
   "version": "2.7.12"
  }
 },
 "nbformat": 4,
 "nbformat_minor": 1
}
